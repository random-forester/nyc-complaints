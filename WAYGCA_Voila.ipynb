{
 "cells": [
  {
   "cell_type": "code",
   "execution_count": 5,
   "id": "c616140b",
   "metadata": {},
   "outputs": [
    {
     "name": "stdout",
     "output_type": "stream",
     "text": [
      "Launching server at http://localhost:50499\n"
     ]
    },
    {
     "data": {
      "text/plain": [
       "<bokeh.server.server.Server at 0x7f953a660af0>"
      ]
     },
     "execution_count": 5,
     "metadata": {},
     "output_type": "execute_result"
    }
   ],
   "source": [
    "\n",
    "import dill\n",
    "import panel as pn\n",
    "import json\n",
    "import altair as alt\n",
    "\n",
    "with open('gdf_merged.dill', 'rb') as f:\n",
    "    gdf_merged = dill.load(f)\n",
    "\n",
    "variable_list = ['Apartment Construction/Maintenance', 'Building Maintenance',\n",
    "                 'Heat/Hot Water/Electricity', 'Noise - Outside',\n",
    "                 'Noise - Residential', 'Parking/Street Conditions', 'Rodent',\n",
    "                 'Unhealthy Conditions', 'Water Leaks and Plumbing']\n",
    "variable = pn.widgets.Select(options=variable_list, name='Variable')\n",
    "\n",
    "\n",
    "@pn.depends(variable.param.value)\n",
    "def get_map(variable):\n",
    "    gdf_merged_complaint = gdf_merged[gdf_merged[\"Complaint Type\"] == variable]\n",
    "    choro_json = json.loads(gdf_merged_complaint.to_json())\n",
    "    choro_data = alt.Data(values=choro_json['features'])\n",
    "    return gen_map(geodata=choro_data, color_column='properties.count_col_yr',\n",
    "                   tooltip=['properties.zipcode:O','properties.count_col_yr:Q'],\n",
    "                   color_scheme='redblue').repeat(row=[variable])\n",
    "    \n",
    "def gen_map(geodata, color_column, tooltip, color_scheme):\n",
    "    \n",
    "    # Add Choropleth Layer\n",
    "    choro = alt.Chart(geodata).mark_geoshape(stroke='white').encode(\n",
    "        alt.Color(color_column,type='quantitative',\n",
    "                  scale=alt.Scale(scheme=color_scheme, reverse = True),title = \"counts per year\"),\n",
    "        tooltip=tooltip)\n",
    "    return choro\n",
    "\n",
    "pn.Row(\n",
    "    pn.Column('# Complaint Type Map', pn.panel(variable)),\n",
    "    get_map\n",
    ").show()"
   ]
  },
  {
   "cell_type": "code",
   "execution_count": 2,
   "id": "bf5893df",
   "metadata": {},
   "outputs": [],
   "source": [
    "with open('pipe_of_logreg.dill', 'rb') as f:\n",
    "    lr_pipe = dill.load(f)"
   ]
  },
  {
   "cell_type": "code",
   "execution_count": 4,
   "id": "f567c0e3",
   "metadata": {},
   "outputs": [
    {
     "data": {
      "text/html": [
       "<div>\n",
       "<style scoped>\n",
       "    .dataframe tbody tr th:only-of-type {\n",
       "        vertical-align: middle;\n",
       "    }\n",
       "\n",
       "    .dataframe tbody tr th {\n",
       "        vertical-align: top;\n",
       "    }\n",
       "\n",
       "    .dataframe thead th {\n",
       "        text-align: right;\n",
       "    }\n",
       "</style>\n",
       "<table border=\"1\" class=\"dataframe\">\n",
       "  <thead>\n",
       "    <tr style=\"text-align: right;\">\n",
       "      <th></th>\n",
       "      <th>Complaint Type</th>\n",
       "      <th>Probability</th>\n",
       "    </tr>\n",
       "  </thead>\n",
       "  <tbody>\n",
       "    <tr>\n",
       "      <th>2</th>\n",
       "      <td>Heat/Hot Water/Electricity</td>\n",
       "      <td>0.30</td>\n",
       "    </tr>\n",
       "    <tr>\n",
       "      <th>3</th>\n",
       "      <td>Noise - Outside</td>\n",
       "      <td>0.30</td>\n",
       "    </tr>\n",
       "    <tr>\n",
       "      <th>4</th>\n",
       "      <td>Noise - Residential</td>\n",
       "      <td>0.13</td>\n",
       "    </tr>\n",
       "    <tr>\n",
       "      <th>0</th>\n",
       "      <td>Apartment Construction/Maintenance</td>\n",
       "      <td>0.09</td>\n",
       "    </tr>\n",
       "    <tr>\n",
       "      <th>8</th>\n",
       "      <td>Water Leaks and Plumbing</td>\n",
       "      <td>0.08</td>\n",
       "    </tr>\n",
       "    <tr>\n",
       "      <th>1</th>\n",
       "      <td>Building Maintenance</td>\n",
       "      <td>0.04</td>\n",
       "    </tr>\n",
       "    <tr>\n",
       "      <th>5</th>\n",
       "      <td>Parking/Street Conditions</td>\n",
       "      <td>0.04</td>\n",
       "    </tr>\n",
       "    <tr>\n",
       "      <th>7</th>\n",
       "      <td>Unhealthy Conditions</td>\n",
       "      <td>0.02</td>\n",
       "    </tr>\n",
       "    <tr>\n",
       "      <th>6</th>\n",
       "      <td>Rodent</td>\n",
       "      <td>0.01</td>\n",
       "    </tr>\n",
       "  </tbody>\n",
       "</table>\n",
       "</div>"
      ],
      "text/plain": [
       "                       Complaint Type  Probability\n",
       "2          Heat/Hot Water/Electricity         0.30\n",
       "3                     Noise - Outside         0.30\n",
       "4                 Noise - Residential         0.13\n",
       "0  Apartment Construction/Maintenance         0.09\n",
       "8            Water Leaks and Plumbing         0.08\n",
       "1                Building Maintenance         0.04\n",
       "5           Parking/Street Conditions         0.04\n",
       "7                Unhealthy Conditions         0.02\n",
       "6                              Rodent         0.01"
      ]
     },
     "execution_count": 4,
     "metadata": {},
     "output_type": "execute_result"
    }
   ],
   "source": [
    "import pandas as pd\n",
    "test={\"Units\":[25.0], \"Stories\":[6.0],\"Built\":[1907.0],\"Popularity\":[3.0], \"zipcode\":[\"10032\"], \"neighborhood\":[\"Washington Heights\"],\"unit_type\":[\"Rental Building\"]}\n",
    "test_df = pd.DataFrame.from_dict(test)\n",
    "X_axis_probs = [round(x,2) for x in lr_pipe.predict_proba(test_df).flatten().tolist()]\n",
    "Y_axis = lr_pipe.classes_.flatten().tolist()\n",
    "predictions = pd.DataFrame(zip(Y_axis,X_axis_probs), columns = [\"Complaint Type\", \"Probability\"])\n",
    "predictions.sort_values( by = \"Probability\", ascending = False)"
   ]
  },
  {
   "cell_type": "code",
   "execution_count": null,
   "id": "ff92abf5",
   "metadata": {},
   "outputs": [],
   "source": []
  }
 ],
 "metadata": {
  "kernelspec": {
   "display_name": "Python 3",
   "language": "python",
   "name": "python3"
  },
  "language_info": {
   "codemirror_mode": {
    "name": "ipython",
    "version": 3
   },
   "file_extension": ".py",
   "mimetype": "text/x-python",
   "name": "python",
   "nbconvert_exporter": "python",
   "pygments_lexer": "ipython3",
   "version": "3.9.2"
  }
 },
 "nbformat": 4,
 "nbformat_minor": 5
}
