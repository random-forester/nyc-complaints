{
 "cells": [
  {
   "cell_type": "code",
   "execution_count": 10,
   "id": "c616140b",
   "metadata": {},
   "outputs": [
    {
     "name": "stdout",
     "output_type": "stream",
     "text": [
      "Launching server at http://localhost:60834\n"
     ]
    },
    {
     "data": {
      "text/plain": [
       "<bokeh.server.server.Server at 0x7f82f6161160>"
      ]
     },
     "execution_count": 10,
     "metadata": {},
     "output_type": "execute_result"
    }
   ],
   "source": [
    "\n",
    "import dill\n",
    "import panel as pn\n",
    "import json\n",
    "import altair as alt\n",
    "\n",
    "with open('gdf_merged.dill', 'rb') as f:\n",
    "    gdf_merged = dill.load(f)\n",
    "\n",
    "variable_list = ['Apartment Construction/Maintenance', 'Building Maintenance',\n",
    "                 'Heat/Hot Water/Electricity', 'Noise - Outside',\n",
    "                 'Noise - Residential', 'Parking/Street Conditions', 'Rodent',\n",
    "                 'Unhealthy Conditions', 'Water Leaks and Plumbing']\n",
    "variable = pn.widgets.Select(options=variable_list, name='Variable')\n",
    "\n",
    "\n",
    "@pn.depends(variable.param.value)\n",
    "def get_map(variable):\n",
    "    gdf_merged_complaint = gdf_merged[gdf_merged[\"Complaint Type\"] == variable]\n",
    "    choro_json = json.loads(gdf_merged_complaint.to_json())\n",
    "    choro_data = alt.Data(values=choro_json['features'])\n",
    "    return gen_map(geodata=choro_data, color_column='properties.count_col_yr',\n",
    "                   tooltip=['properties.zipcode:O','properties.count_col_yr:Q'],\n",
    "                   color_scheme='redblue').repeat(row=[variable])\n",
    "    \n",
    "def gen_map(geodata, color_column, tooltip, color_scheme):\n",
    "    \n",
    "    # Add Choropleth Layer\n",
    "    choro = alt.Chart(geodata).mark_geoshape(stroke='white').encode(\n",
    "        alt.Color(color_column,type='quantitative',\n",
    "                  scale=alt.Scale(scheme=color_scheme, reverse = True),title = \"counts per year\"),\n",
    "        tooltip=tooltip)\n",
    "    return choro\n",
    "\n",
    "pn.Row(\n",
    "    pn.Column('# Complaint Type Map', pn.panel(variable)),\n",
    "    get_map\n",
    ").show()"
   ]
  },
  {
   "cell_type": "code",
   "execution_count": null,
   "id": "bf5893df",
   "metadata": {},
   "outputs": [],
   "source": []
  }
 ],
 "metadata": {
  "kernelspec": {
   "display_name": "Python 3",
   "language": "python",
   "name": "python3"
  },
  "language_info": {
   "codemirror_mode": {
    "name": "ipython",
    "version": 3
   },
   "file_extension": ".py",
   "mimetype": "text/x-python",
   "name": "python",
   "nbconvert_exporter": "python",
   "pygments_lexer": "ipython3",
   "version": "3.9.2"
  }
 },
 "nbformat": 4,
 "nbformat_minor": 5
}
