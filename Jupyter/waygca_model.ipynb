{
 "cells": [
  {
   "cell_type": "code",
   "execution_count": 142,
   "id": "961c81d0",
   "metadata": {},
   "outputs": [],
   "source": [
    "import pandas as pd\n",
    "import seaborn as sns\n",
    "import altair as alt"
   ]
  },
  {
   "cell_type": "markdown",
   "id": "4de235af",
   "metadata": {},
   "source": [
    "# WAYGCA MODEL\n",
    "### Read in data"
   ]
  },
  {
   "cell_type": "code",
   "execution_count": 50,
   "id": "bea5081e",
   "metadata": {},
   "outputs": [],
   "source": [
    "raw_data = pd.read_csv(\"/Users/bs/Projects/R_F_GitHub/nyc-complaints/data/clean_merge.csv\")"
   ]
  },
  {
   "cell_type": "markdown",
   "id": "1321e00a",
   "metadata": {},
   "source": [
    "### Set up Y values by filtering most common complaint types\n",
    "\n",
    "Grouping complaint types as follows:\n",
    "\n",
    "\"Noise - Outside\" = [\"Noise - Street/Sidewalk\", \"Noise - Commercial\", \"Noise\", \"Noise - Vehicle\", \"Noise - Helicopter\" ]\n",
    "\n",
    "\"Apartment Construction/Maintenance\" = [\"PAINT/PLASTER\",\"DOOR/WINDOW\", \"General Construction/Plumbing\", \"APPLIANCE\"]\n",
    "\n",
    "\"Water Leaks and Plumbing\" =[\"PLUMBING\", \"Water System\", \"WATER LEAK\", \"Water Quality\",\"Sewer\", \"Plumbing\"]\n",
    "\n",
    "\"Building Maintenance\" = [\"FLOORING/STAIRS\",\"Elevator\",\"Building/Use\",\"Maintenance or Facility\"]\n",
    "\n",
    "\"Heat/Hot Water/Electricity\" = [\"HEAT/HOT WATER\", \"ELECTRIC\"]\n",
    "\n",
    "\"Noise - Residential\" = [\"Noise - Residential\"]\n",
    "\n",
    "\"Parking/Street Conditions\" = [\"Illegal Parking\",\"Street Condition\", \"Blocked Driveway\",\"Graffiti\",\"Sidewalk Condition\",\"Street Light Condition\",\"Dead/Dying Tree\"\n",
    "\n",
    "\"Unhealthy Conditions\" = [\"Unsanitary Condition\", \"Lead\", \"Dirty Conditions\", \"Air Quality\", \"Indoor Air Quality\",\"SAFETY\",\"Sanitation Condition\"]\n",
    "\n",
    "Final Complaint List = [\"Rodent\",\"Unhealthy Conditions\",\"Parking/Street Conditions\",\"Noise - Residential\",\"Heat/Hot Water/Electricity\",\"Building Maintenance\",\"Water Leaks and Plumbing\",\"Apartment Construction/Maintenance\",\"Noise - Outside\"]"
   ]
  },
  {
   "cell_type": "code",
   "execution_count": 51,
   "id": "fd853f6f",
   "metadata": {
    "scrolled": true
   },
   "outputs": [],
   "source": [
    "data = raw_data"
   ]
  },
  {
   "cell_type": "code",
   "execution_count": 52,
   "id": "8cf0e26e",
   "metadata": {},
   "outputs": [],
   "source": [
    "out_noise = [\"Noise - Street/Sidewalk\", \"Noise - Commercial\", \"Noise\", \"Noise - Vehicle\", \"Noise - Helicopter\" ]\n",
    "apt = [\"PAINT/PLASTER\",\"DOOR/WINDOW\", \"General Construction/Plumbing\", \"APPLIANCE\"]\n",
    "water =[\"PLUMBING\", \"Water System\", \"WATER LEAK\", \"Water Quality\",\"Sewer\", \"Plumbing\"]\n",
    "bldg = [\"FLOORING/STAIRS\",\"Elevator\",\"Building/Use\",\"Maintenance or Facility\"]\n",
    "heat = [\"HEAT/HOT WATER\", \"ELECTRIC\"]\n",
    "noise = [\"Noise - Residential\"]\n",
    "parking = [\"Illegal Parking\",\"Street Condition\", \"Blocked Driveway\",\"Graffiti\",\"Sidewalk Condition\",\"Street Light Condition\",\"Dead/Dying Tree\"]\n",
    "health = [\"Unsanitary Condition\", \"Lead\", \"Dirty Conditions\", \"Air Quality\", \"Indoor Air Quality\",\"SAFETY\",\"Sanitation Condition\"]"
   ]
  },
  {
   "cell_type": "code",
   "execution_count": 53,
   "id": "819901b8",
   "metadata": {},
   "outputs": [],
   "source": [
    "data = data.replace(to_replace = out_noise, value = \"Noise - Outside\")\n",
    "data = data.replace(to_replace = apt, value = \"Apartment Construction/Maintenance\")\n",
    "data = data.replace(to_replace = water, value = \"Water Leaks and Plumbing\")\n",
    "data = data.replace(to_replace = bldg, value = \"Building Maintenance\")\n",
    "data = data.replace(to_replace = heat, value = \"Heat/Hot Water/Electricity\")\n",
    "data = data.replace(to_replace = noise, value = \"Noise - Residential\")\n",
    "data = data.replace(to_replace = parking, value = \"Parking/Street Conditions\")\n",
    "data = data.replace(to_replace = health, value = \"Unhealthy Conditions\")"
   ]
  },
  {
   "cell_type": "code",
   "execution_count": 54,
   "id": "0ebc2cf9",
   "metadata": {},
   "outputs": [
    {
     "data": {
      "text/plain": [
       "(62350, 10)"
      ]
     },
     "execution_count": 54,
     "metadata": {},
     "output_type": "execute_result"
    }
   ],
   "source": [
    "data.shape"
   ]
  },
  {
   "cell_type": "code",
   "execution_count": 55,
   "id": "863e59c2",
   "metadata": {},
   "outputs": [],
   "source": [
    "complaints_to_keep = [\"st_address_lower\",\"Rodent\",\"Unhealthy Conditions\",\"Parking/Street Conditions\",\"Noise - Residential\",\"Heat/Hot Water/Electricity\",\"Building Maintenance\",\"Water Leaks and Plumbing\",\"Apartment Construction/Maintenance\",\"Noise - Outside\"]\n",
    "filtered_data = data[data[\"Complaint Type\"].isin(complaints_to_keep)]\n"
   ]
  },
  {
   "cell_type": "code",
   "execution_count": 56,
   "id": "7b357d45",
   "metadata": {},
   "outputs": [
    {
     "data": {
      "text/html": [
       "<div>\n",
       "<style scoped>\n",
       "    .dataframe tbody tr th:only-of-type {\n",
       "        vertical-align: middle;\n",
       "    }\n",
       "\n",
       "    .dataframe tbody tr th {\n",
       "        vertical-align: top;\n",
       "    }\n",
       "\n",
       "    .dataframe thead th {\n",
       "        text-align: right;\n",
       "    }\n",
       "</style>\n",
       "<table border=\"1\" class=\"dataframe\">\n",
       "  <thead>\n",
       "    <tr style=\"text-align: right;\">\n",
       "      <th></th>\n",
       "      <th>Unnamed: 0</th>\n",
       "      <th>st_address_lower</th>\n",
       "      <th>Complaint Type</th>\n",
       "      <th>zipcode</th>\n",
       "      <th>Units</th>\n",
       "      <th>Stories</th>\n",
       "      <th>Built</th>\n",
       "      <th>unit_type</th>\n",
       "      <th>neighborhood</th>\n",
       "      <th>Popularity</th>\n",
       "    </tr>\n",
       "  </thead>\n",
       "  <tbody>\n",
       "    <tr>\n",
       "      <th>3</th>\n",
       "      <td>3</td>\n",
       "      <td>1774 amsterdam avenue</td>\n",
       "      <td>Noise - Outside</td>\n",
       "      <td>10031</td>\n",
       "      <td>28.0</td>\n",
       "      <td>5</td>\n",
       "      <td>1930</td>\n",
       "      <td>Rental Building</td>\n",
       "      <td>Hamilton Heights</td>\n",
       "      <td>23</td>\n",
       "    </tr>\n",
       "    <tr>\n",
       "      <th>5</th>\n",
       "      <td>5</td>\n",
       "      <td>68 bayard street</td>\n",
       "      <td>Unhealthy Conditions</td>\n",
       "      <td>10013</td>\n",
       "      <td>16.0</td>\n",
       "      <td>6</td>\n",
       "      <td>1915</td>\n",
       "      <td>Rental Building</td>\n",
       "      <td>Chinatown</td>\n",
       "      <td>6</td>\n",
       "    </tr>\n",
       "    <tr>\n",
       "      <th>6</th>\n",
       "      <td>6</td>\n",
       "      <td>120 haven avenue</td>\n",
       "      <td>Noise - Residential</td>\n",
       "      <td>10032</td>\n",
       "      <td>36.0</td>\n",
       "      <td>5</td>\n",
       "      <td>1920</td>\n",
       "      <td>Rental Building</td>\n",
       "      <td>Washington Heights</td>\n",
       "      <td>18</td>\n",
       "    </tr>\n",
       "    <tr>\n",
       "      <th>7</th>\n",
       "      <td>7</td>\n",
       "      <td>120 haven avenue</td>\n",
       "      <td>Noise - Residential</td>\n",
       "      <td>10032</td>\n",
       "      <td>36.0</td>\n",
       "      <td>5</td>\n",
       "      <td>1920</td>\n",
       "      <td>Rental Building</td>\n",
       "      <td>Washington Heights</td>\n",
       "      <td>18</td>\n",
       "    </tr>\n",
       "    <tr>\n",
       "      <th>8</th>\n",
       "      <td>8</td>\n",
       "      <td>120 haven avenue</td>\n",
       "      <td>Noise - Residential</td>\n",
       "      <td>10032</td>\n",
       "      <td>36.0</td>\n",
       "      <td>5</td>\n",
       "      <td>1920</td>\n",
       "      <td>Rental Building</td>\n",
       "      <td>Washington Heights</td>\n",
       "      <td>18</td>\n",
       "    </tr>\n",
       "  </tbody>\n",
       "</table>\n",
       "</div>"
      ],
      "text/plain": [
       "   Unnamed: 0       st_address_lower        Complaint Type  zipcode  Units  \\\n",
       "3           3  1774 amsterdam avenue       Noise - Outside    10031   28.0   \n",
       "5           5       68 bayard street  Unhealthy Conditions    10013   16.0   \n",
       "6           6       120 haven avenue   Noise - Residential    10032   36.0   \n",
       "7           7       120 haven avenue   Noise - Residential    10032   36.0   \n",
       "8           8       120 haven avenue   Noise - Residential    10032   36.0   \n",
       "\n",
       "  Stories Built        unit_type        neighborhood Popularity  \n",
       "3       5  1930  Rental Building    Hamilton Heights         23  \n",
       "5       6  1915  Rental Building           Chinatown          6  \n",
       "6       5  1920  Rental Building  Washington Heights         18  \n",
       "7       5  1920  Rental Building  Washington Heights         18  \n",
       "8       5  1920  Rental Building  Washington Heights         18  "
      ]
     },
     "execution_count": 56,
     "metadata": {},
     "output_type": "execute_result"
    }
   ],
   "source": [
    "filtered_data.head()"
   ]
  },
  {
   "cell_type": "markdown",
   "id": "6abd16b2",
   "metadata": {},
   "source": [
    "### Address imbalanced class sizes (todo)"
   ]
  },
  {
   "cell_type": "code",
   "execution_count": 131,
   "id": "e5a94789",
   "metadata": {},
   "outputs": [],
   "source": [
    "filtered_data_counts = filtered_data.groupby([\"Complaint Type\"]).agg(count_col= pd.NamedAgg(column=\"Complaint Type\", aggfunc=\"count\")).reset_index()"
   ]
  },
  {
   "cell_type": "code",
   "execution_count": 138,
   "id": "b072672a",
   "metadata": {},
   "outputs": [],
   "source": [
    "filtered_data_counts[\"percent\"] = filtered_data_counts[\"count_col\"].apply(lambda x: x*100/(filtered_data_counts[\"count_col\"].sum()))"
   ]
  },
  {
   "cell_type": "code",
   "execution_count": 141,
   "id": "4eecaec5",
   "metadata": {},
   "outputs": [
    {
     "data": {
      "text/html": [
       "<div>\n",
       "<style scoped>\n",
       "    .dataframe tbody tr th:only-of-type {\n",
       "        vertical-align: middle;\n",
       "    }\n",
       "\n",
       "    .dataframe tbody tr th {\n",
       "        vertical-align: top;\n",
       "    }\n",
       "\n",
       "    .dataframe thead th {\n",
       "        text-align: right;\n",
       "    }\n",
       "</style>\n",
       "<table border=\"1\" class=\"dataframe\">\n",
       "  <thead>\n",
       "    <tr style=\"text-align: right;\">\n",
       "      <th></th>\n",
       "      <th>Complaint Type</th>\n",
       "      <th>count_col</th>\n",
       "      <th>percent</th>\n",
       "    </tr>\n",
       "  </thead>\n",
       "  <tbody>\n",
       "    <tr>\n",
       "      <th>3</th>\n",
       "      <td>Noise - Outside</td>\n",
       "      <td>13550</td>\n",
       "      <td>28.626962</td>\n",
       "    </tr>\n",
       "    <tr>\n",
       "      <th>2</th>\n",
       "      <td>Heat/Hot Water/Electricity</td>\n",
       "      <td>9503</td>\n",
       "      <td>20.076902</td>\n",
       "    </tr>\n",
       "    <tr>\n",
       "      <th>4</th>\n",
       "      <td>Noise - Residential</td>\n",
       "      <td>7724</td>\n",
       "      <td>16.318425</td>\n",
       "    </tr>\n",
       "    <tr>\n",
       "      <th>5</th>\n",
       "      <td>Parking/Street Conditions</td>\n",
       "      <td>5900</td>\n",
       "      <td>12.464877</td>\n",
       "    </tr>\n",
       "    <tr>\n",
       "      <th>0</th>\n",
       "      <td>Apartment Construction/Maintenance</td>\n",
       "      <td>3457</td>\n",
       "      <td>7.303573</td>\n",
       "    </tr>\n",
       "    <tr>\n",
       "      <th>8</th>\n",
       "      <td>Water Leaks and Plumbing</td>\n",
       "      <td>3270</td>\n",
       "      <td>6.908499</td>\n",
       "    </tr>\n",
       "    <tr>\n",
       "      <th>7</th>\n",
       "      <td>Unhealthy Conditions</td>\n",
       "      <td>1910</td>\n",
       "      <td>4.035240</td>\n",
       "    </tr>\n",
       "    <tr>\n",
       "      <th>1</th>\n",
       "      <td>Building Maintenance</td>\n",
       "      <td>1279</td>\n",
       "      <td>2.702132</td>\n",
       "    </tr>\n",
       "    <tr>\n",
       "      <th>6</th>\n",
       "      <td>Rodent</td>\n",
       "      <td>740</td>\n",
       "      <td>1.563391</td>\n",
       "    </tr>\n",
       "  </tbody>\n",
       "</table>\n",
       "</div>"
      ],
      "text/plain": [
       "                       Complaint Type  count_col    percent\n",
       "3                     Noise - Outside      13550  28.626962\n",
       "2          Heat/Hot Water/Electricity       9503  20.076902\n",
       "4                 Noise - Residential       7724  16.318425\n",
       "5           Parking/Street Conditions       5900  12.464877\n",
       "0  Apartment Construction/Maintenance       3457   7.303573\n",
       "8            Water Leaks and Plumbing       3270   6.908499\n",
       "7                Unhealthy Conditions       1910   4.035240\n",
       "1                Building Maintenance       1279   2.702132\n",
       "6                              Rodent        740   1.563391"
      ]
     },
     "execution_count": 141,
     "metadata": {},
     "output_type": "execute_result"
    }
   ],
   "source": [
    "filtered_data_counts.sort_values(by = 'percent', ascending = False)"
   ]
  },
  {
   "cell_type": "markdown",
   "id": "0df58fc4",
   "metadata": {},
   "source": [
    "### Set up X values by converting to float"
   ]
  },
  {
   "cell_type": "code",
   "execution_count": 57,
   "id": "403ee86c",
   "metadata": {},
   "outputs": [
    {
     "name": "stderr",
     "output_type": "stream",
     "text": [
      "<ipython-input-57-e12330141406>:1: SettingWithCopyWarning: \n",
      "A value is trying to be set on a copy of a slice from a DataFrame.\n",
      "Try using .loc[row_indexer,col_indexer] = value instead\n",
      "\n",
      "See the caveats in the documentation: https://pandas.pydata.org/pandas-docs/stable/user_guide/indexing.html#returning-a-view-versus-a-copy\n",
      "  filtered_data[\"zipcode\"] = filtered_data[\"zipcode\"].apply(str)\n",
      "<ipython-input-57-e12330141406>:2: SettingWithCopyWarning: \n",
      "A value is trying to be set on a copy of a slice from a DataFrame.\n",
      "Try using .loc[row_indexer,col_indexer] = value instead\n",
      "\n",
      "See the caveats in the documentation: https://pandas.pydata.org/pandas-docs/stable/user_guide/indexing.html#returning-a-view-versus-a-copy\n",
      "  filtered_data[\"Units\"] = filtered_data[\"Units\"].apply(float)\n",
      "<ipython-input-57-e12330141406>:3: SettingWithCopyWarning: \n",
      "A value is trying to be set on a copy of a slice from a DataFrame.\n",
      "Try using .loc[row_indexer,col_indexer] = value instead\n",
      "\n",
      "See the caveats in the documentation: https://pandas.pydata.org/pandas-docs/stable/user_guide/indexing.html#returning-a-view-versus-a-copy\n",
      "  filtered_data[\"Popularity\"] = filtered_data[\"Popularity\"].apply(lambda x: float(x.replace(\",\",\"\")) if type(x)==str else float(x))\n",
      "<ipython-input-57-e12330141406>:4: SettingWithCopyWarning: \n",
      "A value is trying to be set on a copy of a slice from a DataFrame.\n",
      "Try using .loc[row_indexer,col_indexer] = value instead\n",
      "\n",
      "See the caveats in the documentation: https://pandas.pydata.org/pandas-docs/stable/user_guide/indexing.html#returning-a-view-versus-a-copy\n",
      "  filtered_data[\"Stories\"] = filtered_data[\"Stories\"].apply(lambda x: float(x) if type(x)==float or x.isnumeric() else None)\n",
      "<ipython-input-57-e12330141406>:5: SettingWithCopyWarning: \n",
      "A value is trying to be set on a copy of a slice from a DataFrame.\n",
      "Try using .loc[row_indexer,col_indexer] = value instead\n",
      "\n",
      "See the caveats in the documentation: https://pandas.pydata.org/pandas-docs/stable/user_guide/indexing.html#returning-a-view-versus-a-copy\n",
      "  filtered_data[\"Built\"] = filtered_data[\"Built\"].apply(lambda x: float(x) if type(x)==float or x.isnumeric() else None)\n"
     ]
    }
   ],
   "source": [
    "filtered_data[\"zipcode\"] = filtered_data[\"zipcode\"].apply(str)\n",
    "filtered_data[\"Units\"] = filtered_data[\"Units\"].apply(float)\n",
    "filtered_data[\"Popularity\"] = filtered_data[\"Popularity\"].apply(lambda x: float(x.replace(\",\",\"\")) if type(x)==str else float(x))\n",
    "filtered_data[\"Stories\"] = filtered_data[\"Stories\"].apply(lambda x: float(x) if type(x)==float or x.isnumeric() else None)\n",
    "filtered_data[\"Built\"] = filtered_data[\"Built\"].apply(lambda x: float(x) if type(x)==float or x.isnumeric() else None)"
   ]
  },
  {
   "cell_type": "markdown",
   "id": "bb21f652",
   "metadata": {},
   "source": [
    "### Save address lookup table"
   ]
  },
  {
   "cell_type": "code",
   "execution_count": 58,
   "id": "65566545",
   "metadata": {},
   "outputs": [],
   "source": [
    "cols_to_keep_lookup = [\"st_address_lower\",\"Complaint Type\", \"Units\", \"Stories\",\"Built\",\"Popularity\", \"zipcode\",\"neighborhood\",\"unit_type\"]\n",
    "lookup_data = filtered_data[cols_to_keep_lookup]\n",
    "lookup_data.to_csv(\"/Users/bs/Projects/R_F_GitHub/nyc-complaints/data/lookup_data.csv\")"
   ]
  },
  {
   "cell_type": "code",
   "execution_count": 10,
   "id": "b06737c0",
   "metadata": {},
   "outputs": [],
   "source": [
    "cols_to_keep = [\"Complaint Type\", \"Units\", \"Stories\",\"Built\",\"Popularity\", \"zipcode\",\"neighborhood\",\"unit_type\"]\n",
    "final_data = filtered_data[cols_to_keep]"
   ]
  },
  {
   "cell_type": "code",
   "execution_count": 11,
   "id": "8952e9e1",
   "metadata": {},
   "outputs": [],
   "source": [
    "y = final_data[\"Complaint Type\"]"
   ]
  },
  {
   "cell_type": "code",
   "execution_count": 12,
   "id": "3472cb74",
   "metadata": {},
   "outputs": [],
   "source": [
    "X = final_data.drop(labels = \"Complaint Type\", axis = 1)"
   ]
  },
  {
   "cell_type": "code",
   "execution_count": 13,
   "id": "a8d0465a",
   "metadata": {},
   "outputs": [],
   "source": [
    "from sklearn.preprocessing import OneHotEncoder\n",
    "from sklearn.compose import ColumnTransformer\n",
    "from sklearn.impute import SimpleImputer\n",
    "\n",
    "transformer_name = 'ohe_on_all_categorical_features'\n",
    "transformer = OneHotEncoder(sparse=False)\n",
    "columns_to_encode = ['zipcode', 'neighborhood', 'unit_type']\n",
    "\n",
    "ohe_final = ColumnTransformer([\n",
    "    (transformer_name, transformer, columns_to_encode)], \n",
    "    remainder='passthrough')\n",
    "\n",
    "imputer = SimpleImputer(strategy = 'median', fill_value = 0)"
   ]
  },
  {
   "cell_type": "code",
   "execution_count": 14,
   "id": "340eab2f",
   "metadata": {},
   "outputs": [
    {
     "name": "stdout",
     "output_type": "stream",
     "text": [
      "Shape of the complete data set: (47333, 7)\n",
      "Shape of the train data set: (37866, 7)\n",
      "Shape of the test data set: (9467, 7)\n"
     ]
    }
   ],
   "source": [
    "from sklearn.model_selection import train_test_split\n",
    "\n",
    "X_train, X_test, y_train, y_test = train_test_split(X, y, test_size=0.2, random_state=42)\n",
    "\n",
    "print(\"Shape of the complete data set:\", X.shape)\n",
    "print(\"Shape of the train data set:\", X_train.shape)\n",
    "print(\"Shape of the test data set:\", X_test.shape)"
   ]
  },
  {
   "cell_type": "code",
   "execution_count": 16,
   "id": "deaa457e",
   "metadata": {},
   "outputs": [
    {
     "data": {
      "text/plain": [
       "Pipeline(steps=[('ohe',\n",
       "                 ColumnTransformer(remainder='passthrough',\n",
       "                                   transformers=[('ohe_on_all_categorical_features',\n",
       "                                                  OneHotEncoder(sparse=False),\n",
       "                                                  ['zipcode', 'neighborhood',\n",
       "                                                   'unit_type'])])),\n",
       "                ('imputer', SimpleImputer(fill_value=0, strategy='median')),\n",
       "                ('scaler', StandardScaler()),\n",
       "                ('gs',\n",
       "                 GridSearchCV(cv=5, estimator=LogisticRegression(max_iter=1000),\n",
       "                              param_grid={'C': [1, 2]}))])"
      ]
     },
     "execution_count": 16,
     "metadata": {},
     "output_type": "execute_result"
    }
   ],
   "source": [
    "import numpy as np\n",
    "from sklearn.pipeline import Pipeline\n",
    "from sklearn.preprocessing import StandardScaler\n",
    "from sklearn.linear_model import LogisticRegression\n",
    "from sklearn.model_selection import GridSearchCV\n",
    "\n",
    "grid_search = GridSearchCV(LogisticRegression(max_iter = 1000), cv = 5, param_grid = {'C':[1,2]})\n",
    "lr_pipe = Pipeline([('ohe', ohe_final),\n",
    "                    ('imputer', imputer),\n",
    "                    ('scaler', StandardScaler()),\n",
    "                    ('gs', grid_search)])\n",
    "                           \n",
    "lr_pipe.fit(X_train, y_train)"
   ]
  },
  {
   "cell_type": "code",
   "execution_count": 17,
   "id": "a95db791",
   "metadata": {},
   "outputs": [],
   "source": [
    "from sklearn import metrics\n",
    "\n",
    "def model_evaluation(model, X, y_true):\n",
    "    y_pred = model.predict(X)\n",
    "    scores = {}\n",
    "    scores['accuracy'] = round(metrics.accuracy_score(y_true, y_pred), 4)\n",
    "    scores['precision'] = round(metrics.precision_score(y_true, y_pred, average='weighted'), 4)\n",
    "    scores['recall'] = round(metrics.recall_score(y_true, y_pred, average='weighted'), 4)\n",
    "    probs = model.predict_proba(X).T[1]\n",
    "    #scores['log_loss'] = round(metrics.log_loss(y_true,probs),4)\n",
    "    return scores\n",
    "\n",
    "def print_model_evaluation(model_name, scores):\n",
    "    print('{} evaluation \\n'.format(model_name))\n",
    "    for metric, score in scores.items():\n",
    "        print('Test {}: {}'.format(metric, score))"
   ]
  },
  {
   "cell_type": "code",
   "execution_count": 18,
   "id": "3e6d7021",
   "metadata": {},
   "outputs": [
    {
     "name": "stdout",
     "output_type": "stream",
     "text": [
      "Logistic regression evaluation \n",
      "\n",
      "Test accuracy: 0.3914\n",
      "Test precision: 0.3273\n",
      "Test recall: 0.3914\n"
     ]
    },
    {
     "name": "stderr",
     "output_type": "stream",
     "text": [
      "/Users/bs/opt/anaconda3/envs/capstone/lib/python3.9/site-packages/sklearn/metrics/_classification.py:1248: UndefinedMetricWarning: Precision is ill-defined and being set to 0.0 in labels with no predicted samples. Use `zero_division` parameter to control this behavior.\n",
      "  _warn_prf(average, modifier, msg_start, len(result))\n"
     ]
    }
   ],
   "source": [
    "lr_pipe_score = model_evaluation(lr_pipe, X_test, y_test)\n",
    "print_model_evaluation('Logistic regression', lr_pipe_score)"
   ]
  },
  {
   "cell_type": "code",
   "execution_count": 59,
   "id": "555fdc5c",
   "metadata": {},
   "outputs": [],
   "source": [
    "import dill\n",
    "\n",
    "with open('pipe_of_logreg.dill', 'wb') as f:\n",
    "    dill.dump(lr_pipe, f)"
   ]
  },
  {
   "cell_type": "code",
   "execution_count": 60,
   "id": "663e4576",
   "metadata": {},
   "outputs": [],
   "source": [
    "with open('pipe_of_logreg.dill', 'rb') as f:\n",
    "    lr_pipe = dill.load(f)"
   ]
  },
  {
   "cell_type": "code",
   "execution_count": 62,
   "id": "d8ad912c",
   "metadata": {},
   "outputs": [
    {
     "data": {
      "text/plain": [
       "array(['Noise - Outside', 'Heat/Hot Water/Electricity', 'Noise - Outside',\n",
       "       ..., 'Heat/Hot Water/Electricity', 'Noise - Outside',\n",
       "       'Noise - Residential'], dtype=object)"
      ]
     },
     "execution_count": 62,
     "metadata": {},
     "output_type": "execute_result"
    }
   ],
   "source": [
    "lr_pipe.predict(X_test)"
   ]
  },
  {
   "cell_type": "code",
   "execution_count": 34,
   "id": "11c05d6a",
   "metadata": {},
   "outputs": [],
   "source": [
    "probs = lr_pipe.predict_proba(X_test)"
   ]
  },
  {
   "cell_type": "code",
   "execution_count": 71,
   "id": "dfd6257e",
   "metadata": {},
   "outputs": [
    {
     "data": {
      "text/plain": [
       "False"
      ]
     },
     "execution_count": 71,
     "metadata": {},
     "output_type": "execute_result"
    }
   ],
   "source": []
  },
  {
   "cell_type": "code",
   "execution_count": 95,
   "id": "35a924f2",
   "metadata": {},
   "outputs": [],
   "source": [
    "test={\"Units\":[25.0], \"Stories\":[6.0],\"Built\":[1907.0],\"Popularity\":[3.0], \"zipcode\":[\"10032\"], \"neighborhood\":[\"Washington Heights\"],\"unit_type\":[\"Rental Building\"]}"
   ]
  },
  {
   "cell_type": "code",
   "execution_count": 96,
   "id": "fe97f219",
   "metadata": {},
   "outputs": [],
   "source": [
    "test_df = pd.DataFrame.from_dict(test)"
   ]
  },
  {
   "cell_type": "code",
   "execution_count": 97,
   "id": "0b0ba612",
   "metadata": {},
   "outputs": [
    {
     "data": {
      "text/html": [
       "<div>\n",
       "<style scoped>\n",
       "    .dataframe tbody tr th:only-of-type {\n",
       "        vertical-align: middle;\n",
       "    }\n",
       "\n",
       "    .dataframe tbody tr th {\n",
       "        vertical-align: top;\n",
       "    }\n",
       "\n",
       "    .dataframe thead th {\n",
       "        text-align: right;\n",
       "    }\n",
       "</style>\n",
       "<table border=\"1\" class=\"dataframe\">\n",
       "  <thead>\n",
       "    <tr style=\"text-align: right;\">\n",
       "      <th></th>\n",
       "      <th>Units</th>\n",
       "      <th>Stories</th>\n",
       "      <th>Built</th>\n",
       "      <th>Popularity</th>\n",
       "      <th>zipcode</th>\n",
       "      <th>neighborhood</th>\n",
       "      <th>unit_type</th>\n",
       "    </tr>\n",
       "  </thead>\n",
       "  <tbody>\n",
       "    <tr>\n",
       "      <th>0</th>\n",
       "      <td>25.0</td>\n",
       "      <td>6.0</td>\n",
       "      <td>1907.0</td>\n",
       "      <td>3.0</td>\n",
       "      <td>10032</td>\n",
       "      <td>Washington Heights</td>\n",
       "      <td>Rental Building</td>\n",
       "    </tr>\n",
       "  </tbody>\n",
       "</table>\n",
       "</div>"
      ],
      "text/plain": [
       "   Units  Stories   Built  Popularity zipcode        neighborhood  \\\n",
       "0   25.0      6.0  1907.0         3.0   10032  Washington Heights   \n",
       "\n",
       "         unit_type  \n",
       "0  Rental Building  "
      ]
     },
     "execution_count": 97,
     "metadata": {},
     "output_type": "execute_result"
    }
   ],
   "source": [
    "test_df"
   ]
  },
  {
   "cell_type": "code",
   "execution_count": null,
   "id": "a30052f0",
   "metadata": {},
   "outputs": [],
   "source": []
  },
  {
   "cell_type": "code",
   "execution_count": 118,
   "id": "f7bb9a31",
   "metadata": {},
   "outputs": [],
   "source": [
    "X_axis_probs = [round(x,2) for x in lr_pipe.predict_proba(test_df).flatten().tolist()]"
   ]
  },
  {
   "cell_type": "code",
   "execution_count": 119,
   "id": "0be1b088",
   "metadata": {},
   "outputs": [
    {
     "data": {
      "text/plain": [
       "[0.09, 0.04, 0.3, 0.3, 0.13, 0.04, 0.01, 0.02, 0.08]"
      ]
     },
     "execution_count": 119,
     "metadata": {},
     "output_type": "execute_result"
    }
   ],
   "source": [
    "X_axis_probs"
   ]
  },
  {
   "cell_type": "code",
   "execution_count": 120,
   "id": "d1b13a88",
   "metadata": {},
   "outputs": [],
   "source": [
    "Y_axis = lr_pipe.classes_.flatten().tolist()"
   ]
  },
  {
   "cell_type": "code",
   "execution_count": 121,
   "id": "6f8771fa",
   "metadata": {},
   "outputs": [
    {
     "data": {
      "text/plain": [
       "['Apartment Construction/Maintenance',\n",
       " 'Building Maintenance',\n",
       " 'Heat/Hot Water/Electricity',\n",
       " 'Noise - Outside',\n",
       " 'Noise - Residential',\n",
       " 'Parking/Street Conditions',\n",
       " 'Rodent',\n",
       " 'Unhealthy Conditions',\n",
       " 'Water Leaks and Plumbing']"
      ]
     },
     "execution_count": 121,
     "metadata": {},
     "output_type": "execute_result"
    }
   ],
   "source": [
    "Y_axis"
   ]
  },
  {
   "cell_type": "code",
   "execution_count": 126,
   "id": "14621c2e",
   "metadata": {},
   "outputs": [],
   "source": [
    "predictions = pd.DataFrame(zip(Y_axis,X_axis_probs), columns = [\"Complaint Type\", \"Probability\"])"
   ]
  },
  {
   "cell_type": "code",
   "execution_count": 129,
   "id": "3c2005c7",
   "metadata": {},
   "outputs": [
    {
     "data": {
      "text/html": [
       "<div>\n",
       "<style scoped>\n",
       "    .dataframe tbody tr th:only-of-type {\n",
       "        vertical-align: middle;\n",
       "    }\n",
       "\n",
       "    .dataframe tbody tr th {\n",
       "        vertical-align: top;\n",
       "    }\n",
       "\n",
       "    .dataframe thead th {\n",
       "        text-align: right;\n",
       "    }\n",
       "</style>\n",
       "<table border=\"1\" class=\"dataframe\">\n",
       "  <thead>\n",
       "    <tr style=\"text-align: right;\">\n",
       "      <th></th>\n",
       "      <th>Complaint Type</th>\n",
       "      <th>Probability</th>\n",
       "    </tr>\n",
       "  </thead>\n",
       "  <tbody>\n",
       "    <tr>\n",
       "      <th>2</th>\n",
       "      <td>Heat/Hot Water/Electricity</td>\n",
       "      <td>0.30</td>\n",
       "    </tr>\n",
       "    <tr>\n",
       "      <th>3</th>\n",
       "      <td>Noise - Outside</td>\n",
       "      <td>0.30</td>\n",
       "    </tr>\n",
       "    <tr>\n",
       "      <th>4</th>\n",
       "      <td>Noise - Residential</td>\n",
       "      <td>0.13</td>\n",
       "    </tr>\n",
       "    <tr>\n",
       "      <th>0</th>\n",
       "      <td>Apartment Construction/Maintenance</td>\n",
       "      <td>0.09</td>\n",
       "    </tr>\n",
       "    <tr>\n",
       "      <th>8</th>\n",
       "      <td>Water Leaks and Plumbing</td>\n",
       "      <td>0.08</td>\n",
       "    </tr>\n",
       "    <tr>\n",
       "      <th>1</th>\n",
       "      <td>Building Maintenance</td>\n",
       "      <td>0.04</td>\n",
       "    </tr>\n",
       "    <tr>\n",
       "      <th>5</th>\n",
       "      <td>Parking/Street Conditions</td>\n",
       "      <td>0.04</td>\n",
       "    </tr>\n",
       "    <tr>\n",
       "      <th>7</th>\n",
       "      <td>Unhealthy Conditions</td>\n",
       "      <td>0.02</td>\n",
       "    </tr>\n",
       "    <tr>\n",
       "      <th>6</th>\n",
       "      <td>Rodent</td>\n",
       "      <td>0.01</td>\n",
       "    </tr>\n",
       "  </tbody>\n",
       "</table>\n",
       "</div>"
      ],
      "text/plain": [
       "                       Complaint Type  Probability\n",
       "2          Heat/Hot Water/Electricity         0.30\n",
       "3                     Noise - Outside         0.30\n",
       "4                 Noise - Residential         0.13\n",
       "0  Apartment Construction/Maintenance         0.09\n",
       "8            Water Leaks and Plumbing         0.08\n",
       "1                Building Maintenance         0.04\n",
       "5           Parking/Street Conditions         0.04\n",
       "7                Unhealthy Conditions         0.02\n",
       "6                              Rodent         0.01"
      ]
     },
     "execution_count": 129,
     "metadata": {},
     "output_type": "execute_result"
    }
   ],
   "source": [
    "predictions.sort_values( by = \"Probability\", ascending = False)"
   ]
  },
  {
   "cell_type": "code",
   "execution_count": null,
   "id": "7bebeb8f",
   "metadata": {},
   "outputs": [],
   "source": []
  },
  {
   "cell_type": "markdown",
   "id": "940c079f",
   "metadata": {},
   "source": [
    "### First Logistic Regression Model without grid search\n",
    "Logistic regression evaluation \n",
    "\n",
    "Test accuracy: 0.3914\n",
    "Test precision: 0.3273\n",
    "Test recall: 0.3914\n",
    "\n",
    "### Second Logistic Regression Model with grid search\n",
    "Logistic regression evaluation \n",
    "\n",
    "Test accuracy: 0.3889\n",
    "Test precision: 0.3326\n",
    "Test recall: 0.3889"
   ]
  },
  {
   "cell_type": "code",
   "execution_count": null,
   "id": "7d8db8d5",
   "metadata": {},
   "outputs": [],
   "source": []
  },
  {
   "cell_type": "markdown",
   "id": "aa837074",
   "metadata": {},
   "source": [
    "### Logistic Regression with just zipcode"
   ]
  },
  {
   "cell_type": "code",
   "execution_count": 160,
   "id": "59630da8",
   "metadata": {},
   "outputs": [],
   "source": [
    "y = final_data[\"Complaint Type\"]\n",
    "X_zip = final_data.drop(labels = [\"Complaint Type\",\"Units\",\"Stories\",\"Popularity\",\"Built\",\"unit_type\",\"neighborhood\"], axis = 1)"
   ]
  },
  {
   "cell_type": "code",
   "execution_count": 161,
   "id": "ab0ca471",
   "metadata": {},
   "outputs": [],
   "source": [
    "from sklearn.preprocessing import OneHotEncoder\n",
    "from sklearn.compose import ColumnTransformer\n",
    "from sklearn.impute import SimpleImputer\n",
    "\n",
    "transformer_name = 'ohe_on_all_categorical_features'\n",
    "transformer = OneHotEncoder(sparse=False)\n",
    "columns_to_encode = ['zipcode']\n",
    "\n",
    "ohe_final = ColumnTransformer([\n",
    "    (transformer_name, transformer, columns_to_encode)], \n",
    "    remainder='passthrough')\n",
    "\n",
    "imputer = SimpleImputer(strategy = 'median', fill_value = 0)"
   ]
  },
  {
   "cell_type": "code",
   "execution_count": 163,
   "id": "827ab5e1",
   "metadata": {},
   "outputs": [
    {
     "name": "stdout",
     "output_type": "stream",
     "text": [
      "Shape of the complete data set: (47333, 7)\n",
      "Shape of the train data set: (37866, 1)\n",
      "Shape of the test data set: (9467, 1)\n"
     ]
    }
   ],
   "source": [
    "from sklearn.model_selection import train_test_split\n",
    "\n",
    "X_train, X_test, y_train, y_test = train_test_split(X_zip, y, test_size=0.2, random_state=42)\n",
    "\n",
    "print(\"Shape of the complete data set:\", X.shape)\n",
    "print(\"Shape of the train data set:\", X_train.shape)\n",
    "print(\"Shape of the test data set:\", X_test.shape)"
   ]
  },
  {
   "cell_type": "code",
   "execution_count": 164,
   "id": "7118dcb9",
   "metadata": {},
   "outputs": [
    {
     "data": {
      "text/plain": [
       "Pipeline(steps=[('ohe',\n",
       "                 ColumnTransformer(remainder='passthrough',\n",
       "                                   transformers=[('ohe_on_all_categorical_features',\n",
       "                                                  OneHotEncoder(sparse=False),\n",
       "                                                  ['zipcode'])])),\n",
       "                ('imputer', SimpleImputer(fill_value=0, strategy='median')),\n",
       "                ('scaler', StandardScaler()),\n",
       "                ('gs',\n",
       "                 GridSearchCV(cv=5, estimator=LogisticRegression(max_iter=1000),\n",
       "                              param_grid={'C': array([1.00000000e-02, 1.62377674e-02, 2.63665090e-02, 4.28133240e-02,\n",
       "       6.95192796e-02, 1.12883789e-01, 1.83298071e-01, 2.97635144e-01,\n",
       "       4.83293024e-01, 7.84759970e-01, 1.27427499e+00, 2.06913808e+00,\n",
       "       3.35981829e+00, 5.45559478e+00, 8.85866790e+00, 1.43844989e+01,\n",
       "       2.33572147e+01, 3.79269019e+01, 6.15848211e+01, 1.00000000e+02])}))])"
      ]
     },
     "execution_count": 164,
     "metadata": {},
     "output_type": "execute_result"
    }
   ],
   "source": [
    "import numpy as np\n",
    "from sklearn.pipeline import Pipeline\n",
    "from sklearn.preprocessing import StandardScaler\n",
    "from sklearn.linear_model import LogisticRegression\n",
    "from sklearn.model_selection import GridSearchCV\n",
    "\n",
    "grid_search = GridSearchCV(LogisticRegression(max_iter = 1000), cv = 5, param_grid = {'C':np.logspace(-2,2,20)})\n",
    "lr_pipe = Pipeline([('ohe', ohe_final),\n",
    "                    ('imputer', imputer),\n",
    "                    ('scaler', StandardScaler()),\n",
    "                    ('gs', grid_search)])\n",
    "                           \n",
    "lr_pipe.fit(X_train, y_train)"
   ]
  },
  {
   "cell_type": "code",
   "execution_count": 165,
   "id": "4a42b982",
   "metadata": {},
   "outputs": [],
   "source": [
    "from sklearn import metrics\n",
    "\n",
    "def model_evaluation(model, X, y_true):\n",
    "    y_pred = model.predict(X)\n",
    "    scores = {}\n",
    "    scores['accuracy'] = round(metrics.accuracy_score(y_true, y_pred), 4)\n",
    "    scores['precision'] = round(metrics.precision_score(y_true, y_pred, average='weighted'), 4)\n",
    "    scores['recall'] = round(metrics.recall_score(y_true, y_pred, average='weighted'), 4)\n",
    "    probs = model.predict_proba(X).T[1]\n",
    "    return scores\n",
    "\n",
    "def print_model_evaluation(model_name, scores):\n",
    "    print('{} evaluation \\n'.format(model_name))\n",
    "    for metric, score in scores.items():\n",
    "        print('Test {}: {}'.format(metric, score))"
   ]
  },
  {
   "cell_type": "code",
   "execution_count": 166,
   "id": "2d753e3b",
   "metadata": {},
   "outputs": [
    {
     "name": "stdout",
     "output_type": "stream",
     "text": [
      "Logistic regression evaluation \n",
      "\n",
      "Test accuracy: 0.3192\n",
      "Test precision: 0.256\n",
      "Test recall: 0.3192\n"
     ]
    },
    {
     "name": "stderr",
     "output_type": "stream",
     "text": [
      "/Users/bs/opt/anaconda3/envs/capstone/lib/python3.9/site-packages/sklearn/metrics/_classification.py:1248: UndefinedMetricWarning: Precision is ill-defined and being set to 0.0 in labels with no predicted samples. Use `zero_division` parameter to control this behavior.\n",
      "  _warn_prf(average, modifier, msg_start, len(result))\n"
     ]
    }
   ],
   "source": [
    "lr_pipe_score = model_evaluation(lr_pipe, X_test, y_test)\n",
    "print_model_evaluation('Logistic regression', lr_pipe_score)"
   ]
  },
  {
   "cell_type": "markdown",
   "id": "8de21b16",
   "metadata": {},
   "source": [
    "### Zipcode Model Results\n",
    "Logistic regression evaluation \n",
    "\n",
    "Test accuracy: 0.3192\n",
    "Test precision: 0.256\n",
    "Test recall: 0.3192"
   ]
  },
  {
   "cell_type": "code",
   "execution_count": null,
   "id": "d77bdfd4",
   "metadata": {},
   "outputs": [],
   "source": []
  }
 ],
 "metadata": {
  "kernelspec": {
   "display_name": "Python 3",
   "language": "python",
   "name": "python3"
  },
  "language_info": {
   "codemirror_mode": {
    "name": "ipython",
    "version": 3
   },
   "file_extension": ".py",
   "mimetype": "text/x-python",
   "name": "python",
   "nbconvert_exporter": "python",
   "pygments_lexer": "ipython3",
   "version": "3.9.2"
  }
 },
 "nbformat": 4,
 "nbformat_minor": 5
}
