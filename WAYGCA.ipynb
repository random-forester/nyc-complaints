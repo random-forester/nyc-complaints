{
 "cells": [
  {
   "cell_type": "code",
   "execution_count": 219,
   "id": "c616140b",
   "metadata": {},
   "outputs": [
    {
     "name": "stdout",
     "output_type": "stream",
     "text": [
      "Launching server at http://localhost:58945\n"
     ]
    },
    {
     "data": {
      "text/plain": [
       "<bokeh.server.server.Server at 0x7fda5f4d4940>"
      ]
     },
     "execution_count": 219,
     "metadata": {},
     "output_type": "execute_result"
    }
   ],
   "source": [
    "import dill\n",
    "import panel as pn\n",
    "import json\n",
    "import altair as alt\n",
    "import pandas as pd\n",
    "\n",
    "with open('gdf_merged.dill', 'rb') as f:\n",
    "    gdf_merged = dill.load(f)\n",
    "\n",
    "variable_list = ['Apartment Construction/Maintenance', 'Building Maintenance',\n",
    "                 'Heat/Hot Water/Electricity', 'Noise - Outside',\n",
    "                 'Noise - Residential', 'Parking/Street Conditions', 'Rodent',\n",
    "                 'Unhealthy Conditions', 'Water Leaks and Plumbing']\n",
    "variable = pn.widgets.Select(options=variable_list, name='Choose a complaint type to explore')\n",
    "\n",
    "\n",
    "@pn.depends(variable.param.value)\n",
    "def get_map(variable):\n",
    "    gdf_merged_complaint = gdf_merged[gdf_merged[\"Complaint Type\"] == variable]\n",
    "    choro_json = json.loads(gdf_merged_complaint.to_json())\n",
    "    choro_data = alt.Data(values=choro_json['features'])\n",
    "    return gen_map(geodata=choro_data, color_column='properties.count_col_yr',\n",
    "                   tooltip=['properties.zipcode:O','properties.count_col_yr:Q'],\n",
    "                   color_scheme='lightorange').repeat(row=[variable])\n",
    "    \n",
    "def gen_map(geodata, color_column, tooltip, color_scheme):\n",
    "    \n",
    "    # Add Choropleth Layer\n",
    "    choro = alt.Chart(geodata).mark_geoshape(stroke='white').encode(\n",
    "        alt.Color(color_column,type='quantitative',\n",
    "                  scale=alt.Scale(scheme=color_scheme, reverse = False),title = \"Counts/yr\"),\n",
    "        tooltip=tooltip).properties(\n",
    "    height = 500,\n",
    "    width =500)\n",
    "    return choro\n",
    "\n",
    "data_lookup_value = pn.widgets.Select(options=[\"209 West 102nd Street\",\"372 Fifth Avenue\",\"305 Spring Street\"], name='Street Address')\n",
    "\n",
    "@pn.depends(data_lookup_value.param.value)\n",
    "def data_lookup(data_lookup_value):\n",
    "    if data_lookup_value == \"209 West 102nd Street\":\n",
    "        test={\"Units\":[22.0], \"Stories\":[5.0],\"Built\":[1907.0],\"Popularity\":[45.0],\n",
    "              \"zipcode\":[\"10025\"], \"neighborhood\":[\"Manhattan Valley\"],\"unit_type\":[\"Rental Building\"]}\n",
    "    elif data_lookup_value == \"372 Fifth Avenue\":\n",
    "        test={\"Units\":[132.0], \"Stories\":[10.0],\"Built\":[1928.0],\"Popularity\":[913.0],\n",
    "              \"zipcode\":[\"10018\"], \"neighborhood\":[\"Midtown South\"],\"unit_type\":[\"Co-op\"]}\n",
    "    elif data_lookup_value == \"305 Spring Street\":\n",
    "        test={\"Units\":[16.0], \"Stories\":[5.0],\"Built\":[1920.0],\"Popularity\":[63.0],\n",
    "              \"zipcode\":[\"10013\"], \"neighborhood\":[\"Hudson Square\"],\"unit_type\":[\"Rental Building\"]}\n",
    "            \n",
    "    \n",
    "    test_df = pd.DataFrame.from_dict(test)\n",
    "    \n",
    "    with open('pipe_of_logreg.dill','rb') as f:\n",
    "        lr_pipe = dill.load(f)\n",
    "    \n",
    "    predictions = predict_probs(ml_model = lr_pipe, data = test_df)\n",
    "    return plot_probs(predictions)\n",
    "\n",
    "def predict_probs(ml_model, data):\n",
    "    \n",
    "    X_axis_probs = [round(x,2) for x in ml_model.predict_proba(data).flatten().tolist()]\n",
    "    Y_axis = ml_model.classes_.flatten().tolist()\n",
    "    predictions = pd.DataFrame(zip(Y_axis,X_axis_probs), columns = [\"Complaint Type\", \"Probability\"])\n",
    "    predictions[\"Probability%\"] = (predictions[\"Probability\"]*100).apply(int).apply(\"{}%\".format)\n",
    "    return predictions.sort_values(by = \"Probability\", ascending = False)\n",
    "\n",
    "def plot_probs(predictions):\n",
    "    \n",
    "    bars = alt.Chart(predictions).mark_bar(cornerRadiusBottomRight=3,\n",
    "    cornerRadiusTopRight=3).encode(\n",
    "    x=alt.X('Probability:Q',axis=alt.Axis(labels=False)),\n",
    "    y=alt.Y('Complaint Type:N', sort='-x',title = None),\n",
    "    color=alt.Color('Probability:Q',scale=alt.Scale(scheme='goldred'), legend = None)\n",
    "    )\n",
    "    text = alt.Chart(predictions).mark_text(dx=20, dy=1, color='black', size =18).encode(\n",
    "    x=alt.X('Probability:Q',axis=alt.Axis(labels=False)),\n",
    "    y=alt.Y('Complaint Type:N', sort='-x'),\n",
    "    text=alt.Text('Probability%:N')\n",
    "    )\n",
    "    \n",
    "    return (bars + text).properties(height =300).configure_axis(\n",
    "    ticks = False,\n",
    "    labelLimit =500,\n",
    "    labelFontSize=15,\n",
    "    titleFontSize=20)\n",
    "\n",
    "#### PANEL SPECIFICATIONS######\n",
    "\n",
    "pn.Row(\n",
    "    pn.Spacer(height = 100,width=50),\n",
    "    pn.Column(\n",
    "        pn.pane.PNG('header.png', width = 1000),\n",
    "        pn.Spacer(height = 50,width=50),\n",
    "        pn.Row(\n",
    "            pn.Column('# Map of Complaint Types', pn.panel(variable)),\n",
    "            get_map,\n",
    "            pn.Spacer(height = 600,width=10)\n",
    "        ),\n",
    "        pn.Row(\n",
    "            pn.Column(\"# Complaint Predictor\", pn.panel(data_lookup_value)),\n",
    "            data_lookup\n",
    "        ),\n",
    "        pn.Spacer(height = 100,width=50),\n",
    "        pn.pane.PNG('footer.png',width = 1000)\n",
    "    )\n",
    ").show()\n"
   ]
  },
  {
   "cell_type": "code",
   "execution_count": null,
   "id": "bf5893df",
   "metadata": {},
   "outputs": [],
   "source": []
  },
  {
   "cell_type": "code",
   "execution_count": null,
   "id": "f567c0e3",
   "metadata": {},
   "outputs": [],
   "source": []
  },
  {
   "cell_type": "code",
   "execution_count": null,
   "id": "13b22f68",
   "metadata": {},
   "outputs": [],
   "source": []
  },
  {
   "cell_type": "code",
   "execution_count": null,
   "id": "ff92abf5",
   "metadata": {},
   "outputs": [],
   "source": []
  },
  {
   "cell_type": "code",
   "execution_count": null,
   "id": "8b9123c1",
   "metadata": {},
   "outputs": [],
   "source": []
  }
 ],
 "metadata": {
  "kernelspec": {
   "display_name": "Python 3",
   "language": "python",
   "name": "python3"
  },
  "language_info": {
   "codemirror_mode": {
    "name": "ipython",
    "version": 3
   },
   "file_extension": ".py",
   "mimetype": "text/x-python",
   "name": "python",
   "nbconvert_exporter": "python",
   "pygments_lexer": "ipython3",
   "version": "3.9.2"
  }
 },
 "nbformat": 4,
 "nbformat_minor": 5
}
